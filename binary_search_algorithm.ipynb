{
 "cells": [
  {
   "cell_type": "code",
   "execution_count": 1,
   "id": "62dfff1a",
   "metadata": {},
   "outputs": [
    {
     "name": "stdout",
     "output_type": "stream",
     "text": [
      "Element is present at index 4\n"
     ]
    }
   ],
   "source": [
    "def binarySearchAppr (arr, start, end, x): \n",
    "\n",
    "    # check condition\n",
    "    if end >= start:\n",
    "\n",
    "        mid = start + (end- start)//2\n",
    "\n",
    "        # If element is present at the middle \n",
    "        if arr[mid] == x: \n",
    "            return mid \n",
    "\n",
    "        # If element is smaller than mid\n",
    "        elif arr[mid] > x: \n",
    "            return binarySearchAppr(arr, start, mid-1, x) \n",
    "\n",
    "        # Else the element greator than mid\n",
    "        else: \n",
    "            return binarySearchAppr(arr, mid+1, end, x) \n",
    "\n",
    "    else: \n",
    "        # Element is not found in the array \n",
    "        return -1\n",
    "\n",
    "\n",
    "arr = sorted(['t','u','t','o','r','i','a','l'])\n",
    "x ='r'\n",
    "\n",
    "result = binarySearchAppr(arr, 0, len(arr)-1, x) \n",
    "\n",
    "if result != -1: \n",
    "    print (\"Element is present at index \"+str(result))\n",
    "else: \n",
    "    print (\"Element is not present in array\")"
   ]
  },
  {
   "cell_type": "code",
   "execution_count": null,
   "id": "8e365112",
   "metadata": {},
   "outputs": [],
   "source": []
  }
 ],
 "metadata": {
  "kernelspec": {
   "display_name": "Python 3 (ipykernel)",
   "language": "python",
   "name": "python3"
  },
  "language_info": {
   "codemirror_mode": {
    "name": "ipython",
    "version": 3
   },
   "file_extension": ".py",
   "mimetype": "text/x-python",
   "name": "python",
   "nbconvert_exporter": "python",
   "pygments_lexer": "ipython3",
   "version": "3.9.12"
  }
 },
 "nbformat": 4,
 "nbformat_minor": 5
}
